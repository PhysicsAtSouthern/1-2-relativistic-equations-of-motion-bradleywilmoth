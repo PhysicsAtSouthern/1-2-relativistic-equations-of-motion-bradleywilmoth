{
 "cells": [
  {
   "cell_type": "markdown",
   "metadata": {},
   "source": [
    "# 1.2 Relativistic equations of motion\n",
    "\n",
    "Watch the video https://www.youtube.com/watch?v=InD54gt1P7M&index=2&list=PLdCdV2GBGyXNSUU4-B4I1QtbF6af6pTIr&t=0s\n",
    "\n",
    "Develop a simulation in the cell below showing a two space craft traveling with a constant acceleration toward alpha-centauri: one subject to classical physics and the other using the relativistic Euler-Cromer method\n",
    "Alpha centauri is 4.367 light years away from us.\n",
    "\n",
    "How GlowScript and Jupyter Differ  from Classic VPython\n",
    "\n",
    "·         Vectors must be represented as vector(x,y,z) or vec(x,y,z), not as (x,y,z).\n",
    "\n",
    "·         The name display has been changed to canvas (for technical reasons).\n",
    "\n",
    "·         The name gdisplay has been changed to graph.\n",
    "\n",
    "·         curve objects and points objects have a new set of methods.\n",
    "\n",
    "\n",
    "\n"
   ]
  },
  {
   "cell_type": "code",
   "execution_count": 1,
   "metadata": {},
   "outputs": [
    {
     "data": {
      "application/javascript": [
       "require.undef(\"nbextensions/vpython_libraries/glow.min\");"
      ],
      "text/plain": [
       "<IPython.core.display.Javascript object>"
      ]
     },
     "metadata": {},
     "output_type": "display_data"
    },
    {
     "data": {
      "application/javascript": [
       "require.undef(\"nbextensions/vpython_libraries/glowcomm\");"
      ],
      "text/plain": [
       "<IPython.core.display.Javascript object>"
      ]
     },
     "metadata": {},
     "output_type": "display_data"
    },
    {
     "data": {
      "application/javascript": [
       "require.undef(\"nbextensions/vpython_libraries/jquery-ui.custom.min\");"
      ],
      "text/plain": [
       "<IPython.core.display.Javascript object>"
      ]
     },
     "metadata": {},
     "output_type": "display_data"
    },
    {
     "data": {
      "application/javascript": [
       "require([\"nbextensions/vpython_libraries/glow.min\"], function(){console.log(\"GLOW LOADED\");})"
      ],
      "text/plain": [
       "<IPython.core.display.Javascript object>"
      ]
     },
     "metadata": {},
     "output_type": "display_data"
    },
    {
     "data": {
      "application/javascript": [
       "require([\"nbextensions/vpython_libraries/glowcomm\"], function(){console.log(\"GLOWCOMM LOADED\");})"
      ],
      "text/plain": [
       "<IPython.core.display.Javascript object>"
      ]
     },
     "metadata": {},
     "output_type": "display_data"
    },
    {
     "data": {
      "application/javascript": [
       "require([\"nbextensions/vpython_libraries/jquery-ui.custom.min\"], function(){console.log(\"JQUERY LOADED\");})"
      ],
      "text/plain": [
       "<IPython.core.display.Javascript object>"
      ]
     },
     "metadata": {},
     "output_type": "display_data"
    },
    {
     "data": {
      "text/html": [
       "<div id=\"glowscript\" class=\"glowscript\"></div>"
      ],
      "text/plain": [
       "<IPython.core.display.HTML object>"
      ]
     },
     "metadata": {},
     "output_type": "display_data"
    },
    {
     "data": {
      "application/javascript": [
       "window.__context = { glowscript_container: $(\"#glowscript\").removeAttr(\"id\")}"
      ],
      "text/plain": [
       "<IPython.core.display.Javascript object>"
      ]
     },
     "metadata": {},
     "output_type": "display_data"
    },
    {
     "name": "stdout",
     "output_type": "stream",
     "text": [
      "0.01\n",
      "0.03\n",
      "0.05\n",
      "0.07\n",
      "0.09\n",
      "0.10999999999999999\n",
      "0.12999999999999998\n",
      "0.19000000000000003\n",
      "0.21000000000000005\n",
      "0.23000000000000007\n",
      "0.2900000000000001\n",
      "0.3100000000000001\n",
      "0.37000000000000016\n",
      "0.4100000000000002\n",
      "0.4300000000000002\n",
      "0.470000000000000250.49000000000000027\n",
      "0.5100000000000002\n",
      "0.5700000000000003\n",
      "0.6100000000000003\n",
      "0.6500000000000004\n",
      "0.67000000000000040.7700000000000005\n",
      "0.8100000000000005\n",
      "0.8300000000000005\n",
      "0.8500000000000005\n",
      "0.87000000000000060.8900000000000006\n",
      "0.9100000000000006\n",
      "0.9300000000000006\n",
      "0.9700000000000006\n",
      "0.99000000000000071.0100000000000007\n",
      "1.0300000000000007\n",
      "1.0500000000000007\n",
      "1.0900000000000007\n",
      "1.1100000000000008\n",
      "1.1300000000000008\n",
      "1.15000000000000081.1900000000000008\n",
      "1.2100000000000009\n",
      "1.2300000000000009\n",
      "1.2500000000000009\n",
      "1.290000000000001\n",
      "1.370000000000001\n",
      "1.410000000000001\n",
      "1.430000000000001\n",
      "1.450000000000001\n",
      "1.4700000000000011.490000000000001\n",
      "1.5500000000000012\n",
      "1.57000000000000121.6300000000000012\n",
      "1.6500000000000012\n",
      "1.75000000000000131.7700000000000014\n",
      "1.8300000000000014\n",
      "1.8500000000000014\n",
      "1.87000000000000141.8900000000000015\n",
      "1.9100000000000015\n",
      "1.9300000000000015\n",
      "1.97000000000000151.99000000000000152.0300000000000007\n",
      "2.0500000000000003\n",
      "2.072.2299999999999964\n",
      "2.26999999999999562.289999999999995\n",
      "2.3099999999999947\n",
      "2.349999999999994\n",
      "2.3699999999999934\n",
      "2.4099999999999926\n",
      "2.429999999999992\n",
      "2.5899999999999888\n",
      "2.6099999999999883\n",
      "2.629999999999988\n",
      "2.6899999999999866\n",
      "2.709999999999986\n",
      "2.74999999999998532.7699999999999852.7899999999999845\n",
      "2.809999999999984\n",
      "2.8299999999999836\n",
      "2.8899999999999824\n",
      "2.96999999999998073.16999999999997643.189999999999976\n",
      "3.2099999999999755\n",
      "3.229999999999975\n",
      "3.289999999999974\n",
      "3.3499999999999726\n",
      "3.38999999999997173.4099999999999713\n",
      "3.4499999999999704\n",
      "3.4899999999999696\n",
      "3.54999999999996833.569999999999968\n",
      "3.609999999999967\n",
      "3.6299999999999666\n",
      "3.649999999999966\n",
      "3.66999999999996573.6899999999999653\n",
      "3.789999999999963\n",
      "3.8099999999999627\n",
      "3.8299999999999623\n",
      "3.92999999999996\n",
      "3.96999999999995934.0299999999999585\n",
      "4.129999999999956\n",
      "4.1499999999999564.189999999999955\n",
      "4.209999999999955\n",
      "4.229999999999954\n",
      "4.2699999999999534.329999999999952\n",
      "4.3699999999999514.40999999999995\n",
      "4.42999999999995\n",
      "4.529999999999948\n",
      "4.629999999999946\n",
      "4.669999999999945\n",
      "4.689999999999944\n",
      "4.7499999999999434.789999999999942\n",
      "4.8299999999999415\n",
      "4.88999999999994\n",
      "4.90999999999994\n",
      "4.929999999999939\n",
      "4.949999999999939\n",
      "5.0299999999999375.049999999999937\n",
      "5.0699999999999365.089999999999936\n",
      "5.129999999999935\n",
      "5.149999999999935\n",
      "5.209999999999933\n",
      "5.229999999999933\n",
      "5.2699999999999325.36999999999993\n",
      "5.409999999999929\n",
      "5.489999999999927\n",
      "5.509999999999927\n",
      "5.609999999999925\n",
      "5.629999999999924\n",
      "5.649999999999924\n",
      "5.66999999999992355.689999999999923\n",
      "5.749999999999922\n",
      "5.7699999999999215.789999999999921\n",
      "5.809999999999921\n",
      "5.889999999999919\n",
      "5.949999999999918\n",
      "5.9699999999999176.009999999999916\n",
      "6.029999999999916\n",
      "6.149999999999913\n",
      "6.1699999999999136.18999999999991256.209999999999912\n",
      "6.229999999999912\n",
      "6.249999999999911\n",
      "6.2699999999999116.28999999999991\n",
      "6.3899999999999086.409999999999908\n",
      "6.429999999999907\n",
      "6.449999999999907\n",
      "6.46999999999990656.489999999999906\n",
      "6.569999999999904\n",
      "6.649999999999903\n",
      "6.809999999999899\n",
      "6.829999999999899\n",
      "6.849999999999898\n",
      "7.089999999999893\n",
      "7.109999999999893\n",
      "7.129999999999892\n",
      "7.1499999999998927.1699999999998927.22999999999989\n",
      "7.289999999999889\n",
      "7.389999999999887\n",
      "7.4099999999998865\n",
      "7.429999999999886\n",
      "7.489999999999885\n",
      "7.569999999999883\n",
      "7.609999999999882\n",
      "7.629999999999882\n",
      "7.649999999999881\n",
      "7.72999999999988\n",
      "7.749999999999879\n",
      "7.8299999999998775\n",
      "7.8699999999998777.949999999999875\n",
      "7.989999999999874\n",
      "8.009999999999874\n",
      "8.029999999999873\n",
      "8.069999999999872\n",
      "8.089999999999872\n",
      "8.14999999999987\n",
      "8.16999999999987\n",
      "8.229999999999869\n",
      "8.269999999999868\n",
      "8.289999999999868\n",
      "8.329999999999867\n",
      "8.389999999999866\n",
      "8.409999999999865\n",
      "8.429999999999865\n",
      "8.469999999999864\n",
      "8.489999999999863\n",
      "8.509999999999863\n",
      "8.5499999999998628.68999999999986\n",
      "8.709999999999859\n",
      "8.729999999999858\n",
      "8.7899999999998578.849999999999856\n",
      "8.989999999999853\n",
      "9.029999999999852\n",
      "9.049999999999851\n",
      "9.08999999999985\n",
      "9.209999999999848\n",
      "9.249999999999847\n",
      "9.349999999999845\n",
      "9.3899999999998449.489999999999842\n",
      "9.60999999999984\n",
      "9.649999999999839\n",
      "9.7699999999998369.829999999999835\n",
      "9.849999999999834\n",
      "9.889999999999834\n",
      "9.9499999999998329.989999999999831\n",
      "10.009999999999831\n"
     ]
    }
   ],
   "source": [
    "from vpython import *\n",
    "import matplotlib.pyplot as plt\n",
    "\n",
    "%matplotlib inline\n",
    "c = 1\n",
    "dist = 1 #calculate distance to alpha centauri\n",
    "\n",
    "scene.title = \"graph\"\n",
    "graph(xtitle=\"time\", ytitle=\"position\")\n",
    "pos_graph = gcurve(color=color.red)#,label=\"rel x\")\n",
    "nonrel_pos_graph = gcurve(color=color.green)#,label=\"nonrel x\")\n",
    "graph(xtitle=\"time\", ytitle=\"speed\")\n",
    "vel_graph = gcurve(color=color.red)#,label=\"rel v_x\")\n",
    "nonrel_vel_graph = gcurve(color=color.green)#,label=\"nonrel v_x\")\n",
    "\n",
    "rel = sphere( radius=0.5, pos=vector(-5,0,0), color=color.red)\n",
    "rel.momentum = vector(0,0,0)\n",
    "rel.mass = 1.0\n",
    "\n",
    "# Add non-rel here.\n",
    "nonrel = sphere( radius=0.5, pos=vector(-5,0,0), color=color.green)\n",
    "nonrel.momentum = vector(0,0,0)\n",
    "nonrel.mass = 1.0\n",
    "\n",
    "dt = 0.01\n",
    "time = 0\n",
    "while (time < 10):\n",
    "    rate(1000*dt)\n",
    "    force = vector(1,0,0)\n",
    "\n",
    "    # Relativistic ECM.\n",
    "    rel.momentum = rel.momentum + force*dt\n",
    "    rel.rel_fac = 1.0 / sqrt(1.0+(mag(rel.momentum)**2/(rel.mass**2*c**2)))\n",
    "    rel.pos = rel.pos + rel.rel_fac*rel.momentum/rel.mass*dt\n",
    "    \n",
    "    # Add non-relativistic ECM here.\n",
    "    nonrel.momentum = nonrel.momentum + force*dt\n",
    "    nonrel.rel_fac = 1.0\n",
    "    nonrel.pos = nonrel.pos + nonrel.rel_fac*nonrel.momentum/nonrel.mass*dt\n",
    "    \n",
    "    time = time + dt\n",
    "    pos_graph.plot(pos=(time,rel.pos.x))\n",
    "    nonrel_pos_graph.plot(pos=(time,nonrel.pos.x))\n",
    "    velocity = rel.momentum/rel.mass*rel.rel_fac\n",
    "    vel_graph.plot(pos=(time,velocity.x))\n",
    "    velocity = nonrel.momentum/nonrel.mass*nonrel.rel_fac\n",
    "    nonrel_vel_graph.plot(pos=(time,velocity.x))\n",
    "    print(time)\n",
    "\n",
    "    time = time + dt"
   ]
  },
  {
   "cell_type": "code",
   "execution_count": null,
   "metadata": {
    "collapsed": true
   },
   "outputs": [],
   "source": []
  }
 ],
 "metadata": {
  "kernelspec": {
   "display_name": "Python 3",
   "language": "python",
   "name": "python3"
  },
  "language_info": {
   "codemirror_mode": {
    "name": "ipython",
    "version": 3
   },
   "file_extension": ".py",
   "mimetype": "text/x-python",
   "name": "python",
   "nbconvert_exporter": "python",
   "pygments_lexer": "ipython3",
   "version": "3.6.5"
  }
 },
 "nbformat": 4,
 "nbformat_minor": 2
}
